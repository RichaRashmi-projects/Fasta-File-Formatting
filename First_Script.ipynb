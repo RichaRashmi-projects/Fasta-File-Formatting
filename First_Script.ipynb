{
  "nbformat": 4,
  "nbformat_minor": 0,
  "metadata": {
    "colab": {
      "name": "First_Script.ipynb",
      "provenance": [],
      "mount_file_id": "1Tg4gC5MzQpfOG3VPvNWjA5IAtmDPJQZm",
      "authorship_tag": "ABX9TyOKFOZs2rB0YZq9VzfO6PqP",
      "include_colab_link": true
    },
    "kernelspec": {
      "name": "python3",
      "display_name": "Python 3"
    },
    "language_info": {
      "name": "python"
    }
  },
  "cells": [
    {
      "cell_type": "markdown",
      "metadata": {
        "id": "view-in-github",
        "colab_type": "text"
      },
      "source": [
        "<a href=\"https://colab.research.google.com/github/RichaRashmi-projects/Fasta-File-Formatting/blob/master/First_Script.ipynb\" target=\"_parent\"><img src=\"https://colab.research.google.com/assets/colab-badge.svg\" alt=\"Open In Colab\"/></a>"
      ]
    },
    {
      "cell_type": "markdown",
      "metadata": {
        "id": "-AKjm5sUNAOh"
      },
      "source": [
        "**First command**"
      ]
    },
    {
      "cell_type": "code",
      "metadata": {
        "colab": {
          "base_uri": "https://localhost:8080/"
        },
        "id": "zgk28Xb7MyH7",
        "outputId": "f8a35f98-0c4a-49f1-8de0-2b0f84ba6955"
      },
      "source": [
        "5-1"
      ],
      "execution_count": 2,
      "outputs": [
        {
          "output_type": "execute_result",
          "data": {
            "text/plain": [
              "4"
            ]
          },
          "metadata": {},
          "execution_count": 2
        }
      ]
    },
    {
      "cell_type": "code",
      "metadata": {
        "colab": {
          "base_uri": "https://localhost:8080/"
        },
        "id": "OdLv9ryJKINw",
        "outputId": "8748340e-471b-4c88-bb67-f80229fc59b9"
      },
      "source": [
        "4+5"
      ],
      "execution_count": 1,
      "outputs": [
        {
          "output_type": "execute_result",
          "data": {
            "text/plain": [
              "9"
            ]
          },
          "metadata": {},
          "execution_count": 1
        }
      ]
    },
    {
      "cell_type": "code",
      "metadata": {
        "id": "3ritEWA-Nw0S"
      },
      "source": [
        "/content/sample_data/california_housing_test.csv"
      ],
      "execution_count": null,
      "outputs": []
    }
  ]
}