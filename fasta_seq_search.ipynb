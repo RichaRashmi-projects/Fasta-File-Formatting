{
  "nbformat": 4,
  "nbformat_minor": 0,
  "metadata": {
    "colab": {
      "name": "fasta_seq_search",
      "provenance": [],
      "mount_file_id": "1sXNheIMCFWZ7JoHESYgzrN322s9_HKfD",
      "authorship_tag": "ABX9TyN4BiRegBbeWdeVqFWM5o9q",
      "include_colab_link": true
    },
    "kernelspec": {
      "name": "python3",
      "display_name": "Python 3"
    }
  },
  "cells": [
    {
      "cell_type": "markdown",
      "metadata": {
        "id": "view-in-github",
        "colab_type": "text"
      },
      "source": [
        "<a href=\"https://colab.research.google.com/github/RichaRashmi-projects/Fasta-File-Formatting/blob/master/fasta_seq_search.ipynb\" target=\"_parent\"><img src=\"https://colab.research.google.com/assets/colab-badge.svg\" alt=\"Open In Colab\"/></a>"
      ]
    },
    {
      "cell_type": "code",
      "metadata": {
        "id": "pNrCwrrvdx9H",
        "colab_type": "code",
        "colab": {
          "base_uri": "https://localhost:8080/",
          "height": 119
        },
        "outputId": "9b39ffcc-996b-43b6-f6bb-7153f2acc3bc"
      },
      "source": [
        "!pip install Biopython"
      ],
      "execution_count": 1,
      "outputs": [
        {
          "output_type": "stream",
          "text": [
            "Collecting Biopython\n",
            "\u001b[?25l  Downloading https://files.pythonhosted.org/packages/a8/66/134dbd5f885fc71493c61b6cf04c9ea08082da28da5ed07709b02857cbd0/biopython-1.77-cp36-cp36m-manylinux1_x86_64.whl (2.3MB)\n",
            "\u001b[K     |████████████████████████████████| 2.3MB 2.0MB/s \n",
            "\u001b[?25hRequirement already satisfied: numpy in /usr/local/lib/python3.6/dist-packages (from Biopython) (1.18.5)\n",
            "Installing collected packages: Biopython\n",
            "Successfully installed Biopython-1.77\n"
          ],
          "name": "stdout"
        }
      ]
    },
    {
      "cell_type": "code",
      "metadata": {
        "id": "3nJZQiTdd9Tg",
        "colab_type": "code",
        "colab": {}
      },
      "source": [
        "#import the libraries\n",
        "import numpy as np\n",
        "import pandas as pd # for data processing\n",
        "import matplotlib.pyplot as plt # for plotting\n",
        "from Bio import SeqIO # for handing fasta file\n",
        "from Bio.SeqUtils.ProtParam import ProteinAnalysis # for performing protein sequence analysis"
      ],
      "execution_count": 2,
      "outputs": []
    },
    {
      "cell_type": "code",
      "metadata": {
        "id": "Krkv4j_VeBMm",
        "colab_type": "code",
        "colab": {}
      },
      "source": [
        "#Give path to input and output files\n",
        "\n",
        "#input file\n",
        "fasta_path = \"/content/drive/My Drive/THAP/THAP9/Protein Sequences/Q9H5L6.fasta\" \n",
        "\n",
        "#output file\n",
        "out_path = \"/content/drive/My Drive/THAP/THAP9/Protein Sequences/Q9H5L6.csv\""
      ],
      "execution_count": 10,
      "outputs": []
    },
    {
      "cell_type": "code",
      "metadata": {
        "id": "46HFxf_9s64v",
        "colab_type": "code",
        "colab": {}
      },
      "source": [
        "fasta_dict = dict()"
      ],
      "execution_count": 11,
      "outputs": []
    },
    {
      "cell_type": "code",
      "metadata": {
        "id": "SOaCj4MTePqu",
        "colab_type": "code",
        "colab": {}
      },
      "source": [
        "for record in SeqIO.parse(fasta_path, 'fasta'):\n",
        "    #print('>{}\\t{}'.format(record.description, record.seq))\n",
        "    fasta_dict[record.description] = record.seq"
      ],
      "execution_count": 12,
      "outputs": []
    },
    {
      "cell_type": "code",
      "metadata": {
        "id": "22uDit46s9Kd",
        "colab_type": "code",
        "colab": {}
      },
      "source": [
        "## this command creates table from fasta dictionary\n",
        "fasta_df = pd.DataFrame(fasta_dict.items())\n",
        "fasta_df.columns = [\"header\", \"sequence\"]"
      ],
      "execution_count": 13,
      "outputs": []
    },
    {
      "cell_type": "code",
      "metadata": {
        "id": "xxAkwciNtDIl",
        "colab_type": "code",
        "colab": {
          "base_uri": "https://localhost:8080/",
          "height": 80
        },
        "outputId": "efa87273-b9e4-41fd-8196-6a1b55acf21e"
      },
      "source": [
        "fasta_df \n"
      ],
      "execution_count": 14,
      "outputs": [
        {
          "output_type": "execute_result",
          "data": {
            "text/html": [
              "<div>\n",
              "<style scoped>\n",
              "    .dataframe tbody tr th:only-of-type {\n",
              "        vertical-align: middle;\n",
              "    }\n",
              "\n",
              "    .dataframe tbody tr th {\n",
              "        vertical-align: top;\n",
              "    }\n",
              "\n",
              "    .dataframe thead th {\n",
              "        text-align: right;\n",
              "    }\n",
              "</style>\n",
              "<table border=\"1\" class=\"dataframe\">\n",
              "  <thead>\n",
              "    <tr style=\"text-align: right;\">\n",
              "      <th></th>\n",
              "      <th>header</th>\n",
              "      <th>sequence</th>\n",
              "    </tr>\n",
              "  </thead>\n",
              "  <tbody>\n",
              "    <tr>\n",
              "      <th>0</th>\n",
              "      <td>sp|Q9H5L6|THAP9_HUMAN DNA transposase THAP9 OS...</td>\n",
              "      <td>(M, T, R, S, C, S, A, V, G, C, S, T, R, D, T, ...</td>\n",
              "    </tr>\n",
              "  </tbody>\n",
              "</table>\n",
              "</div>"
            ],
            "text/plain": [
              "                                              header                                           sequence\n",
              "0  sp|Q9H5L6|THAP9_HUMAN DNA transposase THAP9 OS...  (M, T, R, S, C, S, A, V, G, C, S, T, R, D, T, ..."
            ]
          },
          "metadata": {
            "tags": []
          },
          "execution_count": 14
        }
      ]
    },
    {
      "cell_type": "code",
      "metadata": {
        "id": "UoGKGG1KvTbm",
        "colab_type": "code",
        "colab": {}
      },
      "source": [
        "def charposition(string, char):\n",
        "    pos = [] #list to store positions for each 'char' in 'string'\n",
        "    for n in range(len(string)):\n",
        "        if string[n] == char:\n",
        "            pos.append(n)\n",
        "    return pos\n",
        "\n"
      ],
      "execution_count": 20,
      "outputs": []
    },
    {
      "cell_type": "code",
      "metadata": {
        "id": "v-boOnNxtinA",
        "colab_type": "code",
        "colab": {}
      },
      "source": [
        "s = str(fasta_df.iloc[0,1]) \n",
        "c = 'L'"
      ],
      "execution_count": 21,
      "outputs": []
    },
    {
      "cell_type": "code",
      "metadata": {
        "id": "4UPcCmHPvYXc",
        "colab_type": "code",
        "colab": {
          "base_uri": "https://localhost:8080/",
          "height": 34
        },
        "outputId": "8bee7037-5a9f-4d51-9c15-d87e7a0b51f5"
      },
      "source": [
        "pos = charposition(s, c)\n",
        "\n",
        "print(len(pos)) "
      ],
      "execution_count": 23,
      "outputs": [
        {
          "output_type": "stream",
          "text": [
            "116\n"
          ],
          "name": "stdout"
        }
      ]
    },
    {
      "cell_type": "code",
      "metadata": {
        "id": "_TeY3UAIvw6d",
        "colab_type": "code",
        "colab": {
          "base_uri": "https://localhost:8080/",
          "height": 1000
        },
        "outputId": "65d41923-ef58-42de-b56e-3e627513bdc8"
      },
      "source": [
        "pos\n"
      ],
      "execution_count": 24,
      "outputs": [
        {
          "output_type": "execute_result",
          "data": {
            "text/plain": [
              "[16,\n",
              " 22,\n",
              " 60,\n",
              " 79,\n",
              " 89,\n",
              " 98,\n",
              " 107,\n",
              " 111,\n",
              " 127,\n",
              " 131,\n",
              " 138,\n",
              " 145,\n",
              " 152,\n",
              " 167,\n",
              " 169,\n",
              " 173,\n",
              " 178,\n",
              " 179,\n",
              " 186,\n",
              " 187,\n",
              " 198,\n",
              " 218,\n",
              " 220,\n",
              " 233,\n",
              " 235,\n",
              " 241,\n",
              " 245,\n",
              " 262,\n",
              " 272,\n",
              " 278,\n",
              " 279,\n",
              " 285,\n",
              " 289,\n",
              " 298,\n",
              " 306,\n",
              " 309,\n",
              " 316,\n",
              " 322,\n",
              " 323,\n",
              " 336,\n",
              " 348,\n",
              " 352,\n",
              " 353,\n",
              " 355,\n",
              " 360,\n",
              " 368,\n",
              " 385,\n",
              " 417,\n",
              " 418,\n",
              " 420,\n",
              " 443,\n",
              " 446,\n",
              " 449,\n",
              " 454,\n",
              " 464,\n",
              " 467,\n",
              " 472,\n",
              " 480,\n",
              " 489,\n",
              " 492,\n",
              " 493,\n",
              " 495,\n",
              " 497,\n",
              " 510,\n",
              " 512,\n",
              " 516,\n",
              " 530,\n",
              " 534,\n",
              " 535,\n",
              " 546,\n",
              " 556,\n",
              " 571,\n",
              " 574,\n",
              " 577,\n",
              " 578,\n",
              " 583,\n",
              " 586,\n",
              " 601,\n",
              " 602,\n",
              " 611,\n",
              " 613,\n",
              " 615,\n",
              " 618,\n",
              " 622,\n",
              " 640,\n",
              " 652,\n",
              " 668,\n",
              " 670,\n",
              " 700,\n",
              " 704,\n",
              " 705,\n",
              " 707,\n",
              " 714,\n",
              " 725,\n",
              " 728,\n",
              " 729,\n",
              " 738,\n",
              " 743,\n",
              " 751,\n",
              " 752,\n",
              " 760,\n",
              " 767,\n",
              " 789,\n",
              " 796,\n",
              " 798,\n",
              " 803,\n",
              " 806,\n",
              " 812,\n",
              " 820,\n",
              " 834,\n",
              " 835,\n",
              " 843,\n",
              " 855,\n",
              " 867,\n",
              " 893,\n",
              " 894]"
            ]
          },
          "metadata": {
            "tags": []
          },
          "execution_count": 24
        }
      ]
    }
  ]
}